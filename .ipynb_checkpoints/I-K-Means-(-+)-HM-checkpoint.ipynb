{
 "cells": [
  {
   "cell_type": "code",
   "execution_count": 1,
   "metadata": {},
   "outputs": [
    {
     "data": {
      "text/html": [
       "<style>.container { width:100% !important; }</style>"
      ],
      "text/plain": [
       "<IPython.core.display.HTML object>"
      ]
     },
     "metadata": {},
     "output_type": "display_data"
    }
   ],
   "source": [
    "from IPython.core.display import display, HTML\n",
    "display(HTML(\"<style>.container { width:100% !important; }</style>\"))"
   ]
  },
  {
   "cell_type": "markdown",
   "metadata": {},
   "source": [
    "# The Iterative K-means -/+ algorithm  \n",
    "As seen in Ismkahn (2018)  \n",
    "Coded by Henry Morgan, ULB Data Science\n",
    "\n",
    "Note: Ismkahn's original C++ code is available on his researchgate profile, but this code is independently generated and may differ in implementation strategies"
   ]
  },
  {
   "cell_type": "code",
   "execution_count": 54,
   "metadata": {
    "collapsed": true
   },
   "outputs": [],
   "source": [
    "import timeit\n",
    "import random\n",
    "import numpy as np\n",
    "import matplotlib.pyplot as plt\n",
    "import matplotlib"
   ]
  },
  {
   "cell_type": "markdown",
   "metadata": {},
   "source": [
    "## Center and Point classes"
   ]
  },
  {
   "cell_type": "markdown",
   "metadata": {},
   "source": [
    "### Center"
   ]
  },
  {
   "cell_type": "code",
   "execution_count": 41,
   "metadata": {},
   "outputs": [],
   "source": [
    "class center:\n",
    "# a class to capture the required attributes of a cluster for the algorithms\n",
    "# Need: uniqueID\n",
    "# Need: list of associated point indices\n",
    "# Need: Center coordinates\n",
    "# Need: indivisible marker\n",
    "# Need: irremovable marker\n",
    "\n",
    "    __slots__ = '_loc','_id','_irremovable','_indivisible','_points','_unmatchable'\n",
    "  \n",
    "    def __init__(self, coordinates, index):\n",
    "    # initialisation requires an NP array holding the center's starting coordinates and the initialisation index of the center\n",
    "        self._loc = coordinates\n",
    "        self._id = index\n",
    "        self._irremovable = False\n",
    "        self._indivisible = False\n",
    "        self._points = []\n",
    "        self._unmatchable = []\n",
    "    \n",
    "    def getID(self):\n",
    "        return self._id\n",
    "    \n",
    "    def addPoint(self,pt):\n",
    "        self._points.append(pt)\n",
    "    def countPoints(self):\n",
    "        return len(self._points)\n",
    "    def getPoints(self):\n",
    "        return self._points\n",
    "    def resetPoints(self):\n",
    "        self._points = []\n",
    "    \n",
    "    def updateLoc(self,newCoords):\n",
    "        self._loc = newCoords\n",
    "    def getLoc(self):\n",
    "        return self._loc    \n",
    "    \n",
    "    def setIndivisible(self):\n",
    "        self._indivisible = True\n",
    "    def getIndivisible(self):\n",
    "        return self._indivisible\n",
    "            \n",
    "    def setIrremovable(self):\n",
    "        self._irremovable = True\n",
    "    def getIrremovable(self):\n",
    "        return self._irremovable\n",
    "    \n",
    "    def setUnmatchable(self,otherCenterIndex):\n",
    "        self._unmatchable.append(otherCenterIndex)\n",
    "    def getUnmatchable(self):\n",
    "        return self._unmatchable"
   ]
  },
  {
   "cell_type": "markdown",
   "metadata": {},
   "source": [
    "### Point"
   ]
  },
  {
   "cell_type": "code",
   "execution_count": 24,
   "metadata": {},
   "outputs": [],
   "source": [
    "class point:\n",
    "# Class which captures the required attributes of a point for the algorithm\n",
    "# Need: coordinates\n",
    "# Need: First and Second closest centers\n",
    "# Need: Distance to first and second closest centers\n",
    "# Need: Useful Nearest Centers\n",
    "    \n",
    "    __slots__ = \"_loc\",\"_center\",\"_disFirst\",\"_secondCenter\",\"_disSecond\"\n",
    "    \n",
    "    def __init__(self, coordinates):\n",
    "    # initialises point at coordinates X\n",
    "    # receives coordinates as a Numpy Array\n",
    "        self._loc = coordinates\n",
    "\n",
    "    def getLoc(self):\n",
    "        return self._loc\n",
    "    \n",
    "    def setFirstCenter(self,center):\n",
    "        self._center = center\n",
    "    def getCenter(self):\n",
    "        return self._center\n",
    "    def setFirstDistance(self,dis):\n",
    "        self._disFirst = dis\n",
    "    def disToFirst(self):\n",
    "        return self._disFirst\n",
    "    \n",
    "    def setSecondCenter(self,center):\n",
    "        self._secondCenter = center\n",
    "    def getSecondCenter(self):\n",
    "        return self._secondCenter\n",
    "    def setSecondDistance(self,dis):\n",
    "        self._disSecond = dis\n",
    "    def disToSecond(self):\n",
    "        return self._disSecond"
   ]
  },
  {
   "cell_type": "markdown",
   "metadata": {},
   "source": [
    "## Useful Nearest Center initialisation algorithm"
   ]
  },
  {
   "cell_type": "code",
   "execution_count": 5,
   "metadata": {
    "collapsed": true
   },
   "outputs": [],
   "source": [
    "def distance(X1, X2):\n",
    "# Function to calculate euclidean distance between two points or two centers\n",
    "# Accepts two point or center class variables\n",
    "# Returns the euclidean distance calculated as the norm of the difference of their coordinates\n",
    "\n",
    "    return np.linalg.norm(X1.getLoc()-X2.getLoc())"
   ]
  },
  {
   "cell_type": "code",
   "execution_count": 32,
   "metadata": {
    "collapsed": true
   },
   "outputs": [],
   "source": [
    "def usefulCenters(pointCheck, centers):\n",
    "# Calculates the useful nearest centers of a given point\n",
    "# Receives a point class variable and a list of center class variables\n",
    "# Returns a list of center class variables representing the useful nearest centers\n",
    "# NOTE: INEFFICIENT CODE --> REVISIT\n",
    "\n",
    "    UNClist = []\n",
    "    \n",
    "    # Loop through centers and identify useful centers for given point\n",
    "    for i in range(len(centers)):\n",
    "        disPC = distance(pointCheck, centers[i])\n",
    "        useless = False\n",
    "        \n",
    "        # Loop through other centers to determine if center i is useless\n",
    "        # NOTE: INEFFICIENT CODE\n",
    "        for j in range(len(centers)):\n",
    "            if i != j:\n",
    "                disPCx = distance(pointCheck, centers[j])\n",
    "                disCCx = distance(centers[i], centers[j])\n",
    "                if disPCx < disPC and disCCx < disPC:\n",
    "                    useless = True\n",
    "                    \n",
    "        if useless == False:\n",
    "            UNClist.append(centers[i])\n",
    "    \n",
    "    return UNClist"
   ]
  },
  {
   "cell_type": "code",
   "execution_count": 33,
   "metadata": {
    "collapsed": true
   },
   "outputs": [],
   "source": [
    "def UNCinit(points, maxCenters):\n",
    "# Initialises the K-Means center with the Useful Nearest Center algorithm\n",
    "# Receives a list of point class variables and a maxumum number of centers\n",
    "# Returns the list of initial center class variables\n",
    "\n",
    "    centerList = []\n",
    "\n",
    "    # Loop through points and identify point with lowest first dimension value to be the first center\n",
    "    minDimension = points[0].getLoc()[0]\n",
    "    startPoint = points[0]\n",
    "    startPointIndex = 0\n",
    "    for i in range(len(points)):\n",
    "        firstDimension = points[i].getLoc()[0]\n",
    "        if firstDimension < minDimension:\n",
    "            minDimension = firstDimension\n",
    "            startPoint = points[i]\n",
    "            startPointIndex = i\n",
    "            \n",
    "    # Instantiate a center at the given location, and remove the point from the list of possible centers\n",
    "    centerCount = 1\n",
    "    centerList.append(center(startPoint.getLoc(),centerCount))\n",
    "    del points[startPointIndex]\n",
    "    \n",
    "    # Now need to loop until maximum number of centers is achieved\n",
    "    while len(centerList) < maxCenters:\n",
    "        \n",
    "        # Calculate next optimal center\n",
    "        maxFormula = 0\n",
    "        maxPoint = 0\n",
    "        maxPointIndex = 0\n",
    "        for i in range(len(points)):\n",
    "            UNCi = usefulCenters(points[i], centerList)\n",
    "            \n",
    "            # Need to loop through useful nearest centers and calculate required distances to i\n",
    "            maxDist = 0\n",
    "            sumDist = 0\n",
    "            sumLnDist = 0\n",
    "            for j in UNCi:\n",
    "                dist = distance(points[i],j)\n",
    "                if dist > maxDist:\n",
    "                    maxDist = dist\n",
    "                sumDist += dist\n",
    "                sumLnDist += np.log(dist)\n",
    "            avgDist = sumDist/len(UNCi)\n",
    "            \n",
    "            # Calculate the formula of Ismkahn (2017) and compare to previous max\n",
    "            formula = (avgDist/maxDist)*sumLnDist\n",
    "            if formula > maxFormula:\n",
    "                maxFormula = formula\n",
    "                maxPoint = points[i]\n",
    "                maxPointIndex = i\n",
    "\n",
    "        # Instantiate a center at the given location, and remove the point from the list\n",
    "        centerCount += 1\n",
    "        centerList.append(center(maxPoint.getLoc(), centerCount))\n",
    "        del points[maxPointIndex]\n",
    "        \n",
    "    return centerList"
   ]
  },
  {
   "cell_type": "markdown",
   "metadata": {},
   "source": [
    "## SSEDM, Gain/Cost, & Adjacency functions"
   ]
  },
  {
   "cell_type": "markdown",
   "metadata": {},
   "source": [
    "### SSEDM"
   ]
  },
  {
   "cell_type": "code",
   "execution_count": 45,
   "metadata": {
    "collapsed": true
   },
   "outputs": [],
   "source": [
    "def SSEDMi(center):\n",
    "# Function to calculate the sum of squared euclidean distances from the mean (center) of the given cluster\n",
    "# Function receives a center class object\n",
    "# Function returns the calculated SSEDM for that center\n",
    "\n",
    "    points = center.getPoints()\n",
    "    SSEDMi = 0\n",
    "    \n",
    "    # Loop through the cluster's points to calculate their distances to the mean\n",
    "    # NEED INDEX OF ALL POINTS\n",
    "    for i in points:\n",
    "        SSEDMi += distance(i, center) ** 2\n",
    "    \n",
    "    return SSEDMi\n",
    "\n",
    "def SSEDM(centerList):\n",
    "# Function to calculate the sum of squared euclidean distances from the mean (center) of all clusters\n",
    "# Function receives a list of center class objects\n",
    "# Function returns the sum of calculated SSEDM for every cluster\n",
    "\n",
    "    SSEDM = 0\n",
    "    \n",
    "    for i in centerList:\n",
    "        SSEDM += SSEDMi(i)\n",
    "    \n",
    "    return SSEDM"
   ]
  },
  {
   "cell_type": "markdown",
   "metadata": {},
   "source": [
    "### Cost calculation\n",
    "the approximated cost of removing the cluster Sj is the increase in the total SSEDM over all clusters, SSEDM(S), after Sj is removed"
   ]
  },
  {
   "cell_type": "code",
   "execution_count": 9,
   "metadata": {
    "collapsed": true
   },
   "outputs": [],
   "source": [
    "def cost(removalCenter):\n",
    "# Function to approximate the cost of removing the center from the overall solution\n",
    "# Receives a center class object\n",
    "# Returns the approximated cost of the removal\n",
    "\n",
    "    sumSecondCenter = 0\n",
    "    for i in removalCenter.getPoints():\n",
    "        sumSecondCenter += i.disToSecond()**2\n",
    "    \n",
    "    return SSEDMi(removalCenter) - sumSecondCenter"
   ]
  },
  {
   "cell_type": "markdown",
   "metadata": {},
   "source": [
    "### Gain calculation"
   ]
  },
  {
   "cell_type": "code",
   "execution_count": 10,
   "metadata": {
    "collapsed": true
   },
   "outputs": [],
   "source": [
    "def gain(splitCenter, alpha = 3/4):\n",
    "# Function to approximate the gain of splitting one cluster into two clusters\n",
    "# Receives a center class object, an alpha value which defaults to 3/4\n",
    "# Returns the approximated gain for the split\n",
    "\n",
    "    return alpha * SSEDMi(splitCenter)"
   ]
  },
  {
   "cell_type": "markdown",
   "metadata": {},
   "source": [
    "### Adjacency"
   ]
  },
  {
   "cell_type": "code",
   "execution_count": 49,
   "metadata": {
    "collapsed": true
   },
   "outputs": [],
   "source": [
    "def adjacent(centerI, centerJ, centerList):\n",
    "# Function to determine if two centers are adjacent according to Ismkahn's definition\n",
    "# Receives two center class objects\n",
    "# Returns True if centerJ is adjacent to centerI\n",
    "# Returns False otherwise\n",
    "\n",
    "    for i in centerI.getPoints():\n",
    "        if centerList[i.getSecondCenter()].getID() == centerJ.getID():\n",
    "            return True\n",
    "    \n",
    "    return False\n",
    "\n",
    "def strongAdjacent(centerI, centerJ, centerList):\n",
    "# Function to determine if two centers are strongly adjacent according to Ismkahn's definition\n",
    "# Receives two center class objects\n",
    "# Returns True if centerJ is strongly adjacent to centerI\n",
    "# Returns False otherwise\n",
    "\n",
    "    if adjacent(centerI, centerJ, centerList) == True and adjacent(centerJ, centerI, centerList) == True:\n",
    "        return True\n",
    "    \n",
    "    return False\n",
    "\n",
    "def getAdjacentCenters(centerList, centerIndex):\n",
    "# Generates a list of all centers in centerList which are adjacent to center at centerIndex\n",
    "# Receives a list of center class objects and one index to be checked against\n",
    "# Returns a list of indexes where centers are adjacent to the center at centerIndex\n",
    "    \n",
    "    adj = []\n",
    "    for i in range(len(centerList)):\n",
    "        if i != centerIndex:\n",
    "            if adjacent(centerList[centerIndex], centerList[i], centerList) == True:\n",
    "                adj.append(i)\n",
    "    \n",
    "    return adj"
   ]
  },
  {
   "cell_type": "markdown",
   "metadata": {},
   "source": [
    "### Affected points  \n",
    "Definition: in solution S, point P is an affected point of center Ci iff the first or second nearest center of P is Ci"
   ]
  },
  {
   "cell_type": "code",
   "execution_count": 12,
   "metadata": {
    "collapsed": true
   },
   "outputs": [],
   "source": [
    "def affectedPointsInit(point, center):\n",
    "# Determines if point is an affected point of center\n",
    "# For the special T-K-means iteration 1 case, where we have not yet updated global point attributes\n",
    "# Active center list contains the split Si - all affected points of pre-split Si will still be affected\n",
    "\n",
    "# Receives point and center class objects and a list of all centers\n",
    "# Returns True if the point is affected\n",
    "# Returns False otherwise\n",
    "    \n",
    "    second = point.disToSecond()\n",
    "    new = distance(point, center)\n",
    "    if new < second:\n",
    "        return True\n",
    "    \n",
    "def affectedPoints(point, center, centerList):\n",
    "# Determines if point is an affected point of center\n",
    "# Receives point and center class objects and a list of all centers\n",
    "# Returns True if the point is affected\n",
    "# Returns False otherwise\n",
    "    \n",
    "    if centerList[point.getCenter()].getID() == center.getID() or centerList[point.getSecondCenter()].getID() == center.getID():\n",
    "        return True\n",
    "    \n",
    "    return False"
   ]
  },
  {
   "cell_type": "markdown",
   "metadata": {},
   "source": [
    "## Topical K-means algorithm  \n",
    "As applied to a set where the center Cj of cluster Sj is changed to be a random point in Si which has center Ci (i.e. Sj has been deleted and Si has been split)"
   ]
  },
  {
   "cell_type": "code",
   "execution_count": 154,
   "metadata": {},
   "outputs": [],
   "source": [
    "def TKmeans(allCenters, allPoints, deletedIndex, splitIndex):\n",
    " \n",
    "    dimension = allPoints[0].getLoc().shape[0]\n",
    "    \n",
    "    # Define active centers as a set holding the new centers formed by splitting(here same as splitIndex & deletedIndex)\n",
    "    AC = {splitIndex, deletedIndex}\n",
    "    \n",
    "    # Add adjacent center indices of the deleted and split center to list (including the split center here due to construction of getAdjacentCenters())\n",
    "    ACAdj = set()\n",
    "    ACAdj.update(getAdjacentCenters(allCenters, deletedIndex))\n",
    "    ACAdj.update(getAdjacentCenters(allCenters, splitIndex))\n",
    "    \n",
    "    # Add affected point indices of the deleted center to set\n",
    "    AP = set()\n",
    "    for i in range(len(allPoints)):\n",
    "        if affectedPoints(allPoints[i], allCenters[deletedIndex], allCenters) == True:\n",
    "            AP.add(i)\n",
    "\n",
    "    # Update the coordinates of the deleted center to match a random point in the split center\n",
    "    allCenters[deletedIndex].updateLoc(random.choice(allCenters[splitIndex].getPoints()).getLoc())\n",
    "    \n",
    "    # Simple counter for loop\n",
    "    loop = 1\n",
    "    \n",
    "    # Once there are no more active centers, end the algorithm\n",
    "    while len(AC)!= 0:\n",
    "        \n",
    "        # Create a list of centers adjacent to those in AC\n",
    "        # Note - this has already been done in the first loop\n",
    "        if loop != 1:\n",
    "            ACAdj = set()\n",
    "            for i in AC:\n",
    "                ACAdj.update(getAdjacentCenters(allCenters, i))\n",
    "        \n",
    "        # Create a (now empty) set of potential Active Center indices\n",
    "        PAC = set()\n",
    "        \n",
    "        # Add the affected point indices of centers in AC to list\n",
    "        if loop == 1:\n",
    "            # if we are in the first loop, we have the affected points of the old deleted center already\n",
    "            # we only need to add the others\n",
    "            # COULD PROBABLY REMOVE SOME LOOPING HERE BY HAVING IT CHECK AGAINST A LIST\n",
    "            for i in range(len(allPoints)):\n",
    "                for j in AC:\n",
    "                    # Use affectedPointsInit, which will compare distances and not stored attributes\n",
    "                    if affectedPointsInit(allPoints[i], allCenters[j]) == True:\n",
    "                        AP.add(i)       \n",
    "        else:\n",
    "            AP = set()\n",
    "            for i in range(len(allPoints)):\n",
    "                for j in AC:\n",
    "                    if affectedPoints(allPoints[i], allCenters[j], allCenters) == True:\n",
    "                        AP.add(i)\n",
    "\n",
    "        updateCenters = AC\n",
    "        updateCenters.update(ACAdj)\n",
    "        changed = False\n",
    "        for i in AP:\n",
    "            minDist = ()\n",
    "            secondMin = ()\n",
    "\n",
    "            for j in updateCenters:\n",
    "                dist = distance(allPoints[i], allCenters[j])\n",
    "                if len(minDist) == 0:\n",
    "                    minDist = (dist,j)\n",
    "                elif dist < minDist[0]:\n",
    "                    secondMin = minDist\n",
    "                    minDist = (dist,j)\n",
    "                elif len(secondMin) == 0:\n",
    "                    secondMin = (dist,j)\n",
    "                elif dist < secondMin[0]:\n",
    "                    secondMin = (dist,j)\n",
    "            \n",
    "            if minDist[1] != allPoints[i].getCenter():\n",
    "                changed = True\n",
    "                PAC.add(allPoints[i].getCenter())\n",
    "                PAC.add(minDist[1])\n",
    "\n",
    "            allPoints[i].setFirstCenter(minDist[1])\n",
    "            allPoints[i].setFirstDistance(minDist[0])\n",
    "            allPoints[i].setSecondCenter(secondMin[1])\n",
    "            allPoints[i].setSecondDistance(secondMin[0])\n",
    "            allCenters[minDist[1]].addPoint(allPoints[i])\n",
    "        \n",
    "        if changed == True:\n",
    "            for i in updateCenters:\n",
    "                pointLocs = np.zeros((allCenters[i].countPoints(),dimension))\n",
    "                updatePoints = allCenters[i].getPoints()\n",
    "                for j in range(allCenters[i].countPoints()):\n",
    "                    pointLocs[j] = updatePoints[j].getLoc()\n",
    "                allCenters[i].updateLoc(np.mean(pointLocs, axis=0))\n",
    "                allCenters[i].resetPoints()\n",
    "        \n",
    "        AC = PAC\n",
    "        loop += 1\n",
    "    \n",
    "    return allCenters, allPoints"
   ]
  },
  {
   "cell_type": "markdown",
   "metadata": {},
   "source": [
    "## Iterative K-means -/+ algorithm"
   ]
  },
  {
   "cell_type": "code",
   "execution_count": 149,
   "metadata": {
    "collapsed": true
   },
   "outputs": [],
   "source": [
    "def unmatchable(centerList, index1, index2):\n",
    "# receives a list of centers and two indexes\n",
    "# returns True if the centers at both indexes are unmatchable\n",
    "# returns False otherwise\n",
    "\n",
    "    for i in centerList[index1].getUnmatchable():\n",
    "        if i == index2:\n",
    "            return True\n",
    "    return False"
   ]
  },
  {
   "cell_type": "code",
   "execution_count": 150,
   "metadata": {},
   "outputs": [],
   "source": [
    "def IKMeans(allPoints, centerCount):\n",
    "# Runs the Iterative K Means -+ algorithm\n",
    "# Receives an initial list of allPoints and a number of centers to create\n",
    "# Returns centers\n",
    "\n",
    "    dimension = allPoints[0].getLoc().shape[0]\n",
    "    \n",
    "    allCenters = UNCinit(allPoints, centerCount)\n",
    "        \n",
    "    # Assign allPoints and iterate to a solution set of centers and allPoints\n",
    "    changed = True\n",
    "    while changed == True:\n",
    "        changed = False\n",
    "        \n",
    "        for i in allPoints:\n",
    "            minDist = ()\n",
    "            secondMin = ()\n",
    "\n",
    "            for j in range(len(allCenters)):\n",
    "                dist = distance(i, allCenters[j])\n",
    "                if len(minDist) == 0:\n",
    "                    minDist = (dist,j)\n",
    "                elif dist < minDist[0]:\n",
    "                    secondMin = (minDist[0],minDist[1])\n",
    "                    minDist = (dist,j)\n",
    "                elif len(secondMin) == 0:\n",
    "                    secondMin = (dist,j)\n",
    "                elif dist < secondMin[0]:\n",
    "                    secondMin = (dist,j)\n",
    "            \n",
    "            try:\n",
    "                if minDist[1] != i.getCenter():\n",
    "                    changed = True\n",
    "            except:\n",
    "                pass\n",
    "\n",
    "            i.setFirstCenter(minDist[1])\n",
    "            i.setFirstDistance(minDist[0])\n",
    "            i.setSecondCenter(secondMin[1])\n",
    "            i.setSecondDistance(secondMin[0])\n",
    "            allCenters[minDist[1]].addPoint(i)\n",
    "        \n",
    "        if changed == True:\n",
    "            for i in range(len(allCenters)):\n",
    "                pointLocs = np.zeros((allCenters[i].countPoints(),dimension))\n",
    "                updatePoints = allCenters[i].getPoints()\n",
    "                for j in range(allCenters[i].countPoints()):\n",
    "                    pointLocs[j] = updatePoints[j].getLoc()\n",
    "                allCenters[i].updateLoc(np.mean(pointLocs, axis=0))\n",
    "                allCenters[i].resetPoints()\n",
    "    \n",
    "    success = 0\n",
    "    \n",
    "    while success <= centerCount/2:\n",
    "    \n",
    "        largestGain = ()\n",
    "        for i in range(len(allCenters)):\n",
    "            if allCenters[i].getIndivisible() == False:\n",
    "                centerGain = gain(allCenters[i])\n",
    "                if len(largestGain) == 0:\n",
    "                    largestGain = (centerGain,i)\n",
    "                elif centerGain > largestGain[0]:\n",
    "                    largestGain = (centerGain,i)\n",
    "        if len(largestGain) == 0:\n",
    "            break\n",
    "            \n",
    "        clustersLarger = 0\n",
    "        for i in range(len(allCenters)):\n",
    "            if allCenters[i].getIndivisible() == True:\n",
    "                if gain(allCenters[i]) > largestGain[0]:\n",
    "                    clustersLarger += 1\n",
    "        if clustersLarger >= centerCount/2:\n",
    "            break\n",
    "            \n",
    "        lowestCost = ()\n",
    "        for j in range(len(allCenters)):\n",
    "            if j != largestGain[1]\\\n",
    "            and cost(allCenters[j]) < gain(allCenters[largestGain[1]]) \\\n",
    "            and unmatchable(allCenters, j, largestGain[1]) == False \\\n",
    "            and adjacent(allCenters[j],allCenters[largestGain[1]], allCenters) == False\\\n",
    "            and adjacent(allCenters[largestGain[1]],allCenters[j], allCenters) == False\\\n",
    "            and allCenters[j].getIrremovable() == False:\n",
    "                centerCost = cost(allCenters[j])\n",
    "                if len(lowestCost) == 0:\n",
    "                    lowestCost = (centerCost,i)\n",
    "                elif centerGain < lowestCost[0]:\n",
    "                    lowestCost = (centerCost,i)\n",
    "        if len(lowestCost) == 0:\n",
    "            break\n",
    "        \n",
    "        clustersSmaller = 0\n",
    "        for j in range(len(allCenters)):\n",
    "            if j != largestGain[1]\\\n",
    "            and cost(allCenters[j]) < gain(allCenters[largestGain[1]]) \\\n",
    "            and unmatchable(allCenters, j, largestGain[1]) == False \\\n",
    "            and adjacent(allCenters[j],allCenters[largestGain[1]], allCenters) == False\\\n",
    "            and adjacent(allCenters[largestGain[1]],allCenters[j], allCenters) == False\\\n",
    "            and allCenters[j].getIrremovable() == True:\n",
    "                if cost(allCenters[j]) < lowestCost[0]:\n",
    "                    clustersSmaller += 1\n",
    "        if clustersSmaller >= centerCount/2:\n",
    "            break\n",
    "       \n",
    "        clustersSmaller = 0\n",
    "        for j in range(len(allCenters)):\n",
    "            if cost(allCenters[j]) < lowestCost[0]:\n",
    "                    clustersSmaller += 1\n",
    "        if clustersSmaller >= centerCount/2:\n",
    "            allCenters[largestGain[1]].setIndivisible()\n",
    "            continue\n",
    "        \n",
    "        newCenters = allCenters\n",
    "        newPoints = allPoints\n",
    "        newCenters, newPoints = TKmeans(newCenters, newPoints, lowestCost[1], largestGain[1])\n",
    "        \n",
    "        if SSEDM(newCenters) > SSEDM(allCenters):\n",
    "            allCenters[lowestCost[1].setUnmatchable(largestGain[1])]\n",
    "            allCenters[largestGain[1].setUnmatchable(lowestCost[1])]\n",
    "            continue\n",
    "        \n",
    "        newCenters[lowestCost[1]].setIrremovable()\n",
    "        newCenters[largestGain[1]].setIrremovable()\n",
    "        \n",
    "        for i in range(len(allCenters)):\n",
    "            if i != lowestCost[1] and strongAdjacent(allCenters[lowestCost[1]], allCenters[i], allCenters) == True:\n",
    "                newCenters[i].setIndivisible()\n",
    "        \n",
    "        allCenters = newCenters\n",
    "        allPoints = newPoints\n",
    "        \n",
    "        for i in range(len(allCenters)):\n",
    "            if i != lowestCost[1] and strongAdjacent(allCenters[lowestCost[1]], allCenters[i], allCenters) == True:\n",
    "                newCenters[i].setIrremovable()\n",
    "            if i != largestGain[1] and strongAdjacent(allCenters[largestGain[1]], allCenters[i], allCenters) == True:\n",
    "                newCenters[i].setIrremovable()\n",
    "        \n",
    "        success += 1\n",
    "        \n",
    "    return allCenters, allPoints"
   ]
  },
  {
   "cell_type": "markdown",
   "metadata": {},
   "source": [
    "## Trials"
   ]
  },
  {
   "cell_type": "code",
   "execution_count": 156,
   "metadata": {
    "scrolled": false
   },
   "outputs": [
    {
     "data": {
      "image/png": "[encoded data removed]",
      "text/plain": [
       "<Figure size 432x288 with 1 Axes>"
      ]
     },
     "metadata": {},
     "output_type": "display_data"
    },
    {
     "data": {
      "image/png": "[encoded data removed]",
      "text/plain": [
       "<Figure size 432x288 with 1 Axes>"
      ]
     },
     "metadata": {},
     "output_type": "display_data"
    },
    {
     "data": {
      "image/png": "[encoded data removed]",
      "text/plain": [
       "<Figure size 432x288 with 1 Axes>"
      ]
     },
     "metadata": {},
     "output_type": "display_data"
    },
    {
     "data": {
      "image/png": "[encoded data removed]",
      "text/plain": [
       "<Figure size 432x288 with 1 Axes>"
      ]
     },
     "metadata": {},
     "output_type": "display_data"
    },
    {
     "data": {
      "image/png": "[encoded data removed]",
      "text/plain": [
       "<Figure size 432x288 with 1 Axes>"
      ]
     },
     "metadata": {},
     "output_type": "display_data"
    },
    {
     "ename": "KeyboardInterrupt",
     "evalue": "",
     "output_type": "error",
     "traceback": [
      "\u001b[1;31m---------------------------------------------------------------------------\u001b[0m",
      "\u001b[1;31mKeyboardInterrupt\u001b[0m                         Traceback (most recent call last)",
      "\u001b[1;32m<ipython-input-156-88ccaccefc28>\u001b[0m in \u001b[0;36m<module>\u001b[1;34m()\u001b[0m\n\u001b[0;32m     31\u001b[0m \u001b[1;33m\u001b[0m\u001b[0m\n\u001b[0;32m     32\u001b[0m \u001b[1;32mfor\u001b[0m \u001b[0mi\u001b[0m \u001b[1;32min\u001b[0m \u001b[0mrange\u001b[0m\u001b[1;33m(\u001b[0m\u001b[1;36m100\u001b[0m\u001b[1;33m)\u001b[0m\u001b[1;33m:\u001b[0m\u001b[1;33m\u001b[0m\u001b[0m\n\u001b[1;32m---> 33\u001b[1;33m     \u001b[0mtrythings\u001b[0m\u001b[1;33m(\u001b[0m\u001b[1;33m)\u001b[0m\u001b[1;33m\u001b[0m\u001b[0m\n\u001b[0m",
      "\u001b[1;32m<ipython-input-156-88ccaccefc28>\u001b[0m in \u001b[0;36mtrythings\u001b[1;34m()\u001b[0m\n\u001b[0;32m      7\u001b[0m     \u001b[0mdata\u001b[0m\u001b[1;33m=\u001b[0m\u001b[0mtwodnormal\u001b[0m\u001b[1;33m(\u001b[0m \u001b[1;33m(\u001b[0m\u001b[1;36m8\u001b[0m\u001b[1;33m,\u001b[0m\u001b[1;36m4\u001b[0m\u001b[1;33m)\u001b[0m \u001b[1;33m,\u001b[0m\u001b[1;36m1\u001b[0m\u001b[1;33m,\u001b[0m\u001b[1;36m20\u001b[0m\u001b[1;33m)\u001b[0m\u001b[1;33m+\u001b[0m\u001b[0mtwodnormal\u001b[0m\u001b[1;33m(\u001b[0m \u001b[1;33m(\u001b[0m\u001b[1;36m1\u001b[0m\u001b[1;33m,\u001b[0m\u001b[1;36m1\u001b[0m\u001b[1;33m)\u001b[0m \u001b[1;33m,\u001b[0m\u001b[1;36m2\u001b[0m\u001b[1;33m,\u001b[0m\u001b[1;36m60\u001b[0m\u001b[1;33m)\u001b[0m\u001b[1;33m+\u001b[0m\u001b[0mtwodnormal\u001b[0m\u001b[1;33m(\u001b[0m \u001b[1;33m(\u001b[0m\u001b[1;36m3\u001b[0m\u001b[1;33m,\u001b[0m\u001b[1;36m10\u001b[0m\u001b[1;33m)\u001b[0m \u001b[1;33m,\u001b[0m\u001b[1;36m1\u001b[0m\u001b[1;33m,\u001b[0m\u001b[1;36m30\u001b[0m\u001b[1;33m)\u001b[0m\u001b[1;33m+\u001b[0m\u001b[0mtwodnormal\u001b[0m\u001b[1;33m(\u001b[0m \u001b[1;33m(\u001b[0m\u001b[1;36m9\u001b[0m\u001b[1;33m,\u001b[0m\u001b[1;36m0\u001b[0m\u001b[1;33m)\u001b[0m \u001b[1;33m,\u001b[0m\u001b[1;36m0.2\u001b[0m\u001b[1;33m,\u001b[0m\u001b[1;36m20\u001b[0m\u001b[1;33m)\u001b[0m\u001b[1;33m\u001b[0m\u001b[0m\n\u001b[0;32m      8\u001b[0m \u001b[1;33m\u001b[0m\u001b[0m\n\u001b[1;32m----> 9\u001b[1;33m     \u001b[0mcenters\u001b[0m\u001b[1;33m,\u001b[0m \u001b[0mpoints\u001b[0m \u001b[1;33m=\u001b[0m \u001b[0mIKMeans\u001b[0m\u001b[1;33m(\u001b[0m\u001b[0mdata\u001b[0m\u001b[1;33m,\u001b[0m\u001b[1;36m4\u001b[0m\u001b[1;33m)\u001b[0m\u001b[1;33m\u001b[0m\u001b[0m\n\u001b[0m\u001b[0;32m     10\u001b[0m \u001b[1;33m\u001b[0m\u001b[0m\n\u001b[0;32m     11\u001b[0m     \u001b[0mnx\u001b[0m\u001b[1;33m=\u001b[0m\u001b[1;33m[\u001b[0m\u001b[1;33m]\u001b[0m\u001b[1;33m\u001b[0m\u001b[0m\n",
      "\u001b[1;32m<ipython-input-150-dbbece5bb2c2>\u001b[0m in \u001b[0;36mIKMeans\u001b[1;34m(allPoints, centerCount)\u001b[0m\n\u001b[0;32m    102\u001b[0m         \u001b[0mnewCenters\u001b[0m \u001b[1;33m=\u001b[0m \u001b[0mallCenters\u001b[0m\u001b[1;33m\u001b[0m\u001b[0m\n\u001b[0;32m    103\u001b[0m         \u001b[0mnewPoints\u001b[0m \u001b[1;33m=\u001b[0m \u001b[0mallPoints\u001b[0m\u001b[1;33m\u001b[0m\u001b[0m\n\u001b[1;32m--> 104\u001b[1;33m         \u001b[0mnewCenters\u001b[0m\u001b[1;33m,\u001b[0m \u001b[0mnewPoints\u001b[0m \u001b[1;33m=\u001b[0m \u001b[0mTKmeans\u001b[0m\u001b[1;33m(\u001b[0m\u001b[0mnewCenters\u001b[0m\u001b[1;33m,\u001b[0m \u001b[0mnewPoints\u001b[0m\u001b[1;33m,\u001b[0m \u001b[0mlowestCost\u001b[0m\u001b[1;33m[\u001b[0m\u001b[1;36m1\u001b[0m\u001b[1;33m]\u001b[0m\u001b[1;33m,\u001b[0m \u001b[0mlargestGain\u001b[0m\u001b[1;33m[\u001b[0m\u001b[1;36m1\u001b[0m\u001b[1;33m]\u001b[0m\u001b[1;33m)\u001b[0m\u001b[1;33m\u001b[0m\u001b[0m\n\u001b[0m\u001b[0;32m    105\u001b[0m \u001b[1;33m\u001b[0m\u001b[0m\n\u001b[0;32m    106\u001b[0m         \u001b[1;32mif\u001b[0m \u001b[0mSSEDM\u001b[0m\u001b[1;33m(\u001b[0m\u001b[0mnewCenters\u001b[0m\u001b[1;33m)\u001b[0m \u001b[1;33m>\u001b[0m \u001b[0mSSEDM\u001b[0m\u001b[1;33m(\u001b[0m\u001b[0mallCenters\u001b[0m\u001b[1;33m)\u001b[0m\u001b[1;33m:\u001b[0m\u001b[1;33m\u001b[0m\u001b[0m\n",
      "\u001b[1;32m<ipython-input-154-b8959ad20497>\u001b[0m in \u001b[0;36mTKmeans\u001b[1;34m(allCenters, allPoints, deletedIndex, splitIndex)\u001b[0m\n\u001b[0;32m     61\u001b[0m \u001b[1;33m\u001b[0m\u001b[0m\n\u001b[0;32m     62\u001b[0m             \u001b[1;32mfor\u001b[0m \u001b[0mj\u001b[0m \u001b[1;32min\u001b[0m \u001b[0mupdateCenters\u001b[0m\u001b[1;33m:\u001b[0m\u001b[1;33m\u001b[0m\u001b[0m\n\u001b[1;32m---> 63\u001b[1;33m                 \u001b[0mdist\u001b[0m \u001b[1;33m=\u001b[0m \u001b[0mdistance\u001b[0m\u001b[1;33m(\u001b[0m\u001b[0mallPoints\u001b[0m\u001b[1;33m[\u001b[0m\u001b[0mi\u001b[0m\u001b[1;33m]\u001b[0m\u001b[1;33m,\u001b[0m \u001b[0mallCenters\u001b[0m\u001b[1;33m[\u001b[0m\u001b[0mj\u001b[0m\u001b[1;33m]\u001b[0m\u001b[1;33m)\u001b[0m\u001b[1;33m\u001b[0m\u001b[0m\n\u001b[0m\u001b[0;32m     64\u001b[0m                 \u001b[1;32mif\u001b[0m \u001b[0mlen\u001b[0m\u001b[1;33m(\u001b[0m\u001b[0mminDist\u001b[0m\u001b[1;33m)\u001b[0m \u001b[1;33m==\u001b[0m \u001b[1;36m0\u001b[0m\u001b[1;33m:\u001b[0m\u001b[1;33m\u001b[0m\u001b[0m\n\u001b[0;32m     65\u001b[0m                     \u001b[0mminDist\u001b[0m \u001b[1;33m=\u001b[0m \u001b[1;33m(\u001b[0m\u001b[0mdist\u001b[0m\u001b[1;33m,\u001b[0m\u001b[0mj\u001b[0m\u001b[1;33m)\u001b[0m\u001b[1;33m\u001b[0m\u001b[0m\n",
      "\u001b[1;32m<ipython-input-5-9fe6ebbbccef>\u001b[0m in \u001b[0;36mdistance\u001b[1;34m(X1, X2)\u001b[0m\n\u001b[0;32m      4\u001b[0m \u001b[1;31m# Returns the euclidean distance calculated as the norm of the difference of their coordinates\u001b[0m\u001b[1;33m\u001b[0m\u001b[1;33m\u001b[0m\u001b[0m\n\u001b[0;32m      5\u001b[0m \u001b[1;33m\u001b[0m\u001b[0m\n\u001b[1;32m----> 6\u001b[1;33m     \u001b[1;32mreturn\u001b[0m \u001b[0mnp\u001b[0m\u001b[1;33m.\u001b[0m\u001b[0mlinalg\u001b[0m\u001b[1;33m.\u001b[0m\u001b[0mnorm\u001b[0m\u001b[1;33m(\u001b[0m\u001b[0mX1\u001b[0m\u001b[1;33m.\u001b[0m\u001b[0mgetLoc\u001b[0m\u001b[1;33m(\u001b[0m\u001b[1;33m)\u001b[0m\u001b[1;33m-\u001b[0m\u001b[0mX2\u001b[0m\u001b[1;33m.\u001b[0m\u001b[0mgetLoc\u001b[0m\u001b[1;33m(\u001b[0m\u001b[1;33m)\u001b[0m\u001b[1;33m)\u001b[0m\u001b[1;33m\u001b[0m\u001b[0m\n\u001b[0m",
      "\u001b[1;32m<__array_function__ internals>\u001b[0m in \u001b[0;36mnorm\u001b[1;34m(*args, **kwargs)\u001b[0m\n",
      "\u001b[1;32mC:\\Users\\kx360\\Anaconda3\\lib\\site-packages\\numpy\\linalg\\linalg.py\u001b[0m in \u001b[0;36mnorm\u001b[1;34m(x, ord, axis, keepdims)\u001b[0m\n\u001b[0;32m   2528\u001b[0m                 \u001b[0msqnorm\u001b[0m \u001b[1;33m=\u001b[0m \u001b[0mdot\u001b[0m\u001b[1;33m(\u001b[0m\u001b[0mx\u001b[0m\u001b[1;33m.\u001b[0m\u001b[0mreal\u001b[0m\u001b[1;33m,\u001b[0m \u001b[0mx\u001b[0m\u001b[1;33m.\u001b[0m\u001b[0mreal\u001b[0m\u001b[1;33m)\u001b[0m \u001b[1;33m+\u001b[0m \u001b[0mdot\u001b[0m\u001b[1;33m(\u001b[0m\u001b[0mx\u001b[0m\u001b[1;33m.\u001b[0m\u001b[0mimag\u001b[0m\u001b[1;33m,\u001b[0m \u001b[0mx\u001b[0m\u001b[1;33m.\u001b[0m\u001b[0mimag\u001b[0m\u001b[1;33m)\u001b[0m\u001b[1;33m\u001b[0m\u001b[0m\n\u001b[0;32m   2529\u001b[0m             \u001b[1;32melse\u001b[0m\u001b[1;33m:\u001b[0m\u001b[1;33m\u001b[0m\u001b[0m\n\u001b[1;32m-> 2530\u001b[1;33m                 \u001b[0msqnorm\u001b[0m \u001b[1;33m=\u001b[0m \u001b[0mdot\u001b[0m\u001b[1;33m(\u001b[0m\u001b[0mx\u001b[0m\u001b[1;33m,\u001b[0m \u001b[0mx\u001b[0m\u001b[1;33m)\u001b[0m\u001b[1;33m\u001b[0m\u001b[0m\n\u001b[0m\u001b[0;32m   2531\u001b[0m             \u001b[0mret\u001b[0m \u001b[1;33m=\u001b[0m \u001b[0msqrt\u001b[0m\u001b[1;33m(\u001b[0m\u001b[0msqnorm\u001b[0m\u001b[1;33m)\u001b[0m\u001b[1;33m\u001b[0m\u001b[0m\n\u001b[0;32m   2532\u001b[0m             \u001b[1;32mif\u001b[0m \u001b[0mkeepdims\u001b[0m\u001b[1;33m:\u001b[0m\u001b[1;33m\u001b[0m\u001b[0m\n",
      "\u001b[1;32m<__array_function__ internals>\u001b[0m in \u001b[0;36mdot\u001b[1;34m(*args, **kwargs)\u001b[0m\n",
      "\u001b[1;31mKeyboardInterrupt\u001b[0m: "
     ]
    }
   ],
   "source": [
    "def twodnormal(center,sigma,count):\n",
    "# code of John Iacono\n",
    "    return [ (point(np.array([random.normalvariate(center[0],sigma),\n",
    "              random.normalvariate(center[1],sigma)]))) for i in range(count)]\n",
    "\n",
    "def trythings():\n",
    "    data=twodnormal( (8,4) ,1,20)+twodnormal( (1,1) ,2,60)+twodnormal( (3,10) ,1,30)+twodnormal( (9,0) ,0.2,20)\n",
    "\n",
    "    centers, points = IKMeans(data,4)\n",
    "\n",
    "    nx=[]\n",
    "    ny=[]\n",
    "    sizes=[]\n",
    "    cols=[]\n",
    "    cm=matplotlib.cm.get_cmap('turbo')\n",
    "    for m,c in zip(centers,[cm(i/len(centers)) for i in range(len(centers))]):\n",
    "        nx.append(m.getLoc()[0])\n",
    "        ny.append(m.getLoc()[1])\n",
    "        cols.append(c)\n",
    "        sizes.append(200)\n",
    "        for i in m.getPoints():\n",
    "            loc = i.getLoc()\n",
    "            nx.append(loc[0])\n",
    "            ny.append(loc[1])\n",
    "        cols.extend([c]*m.countPoints())\n",
    "        sizes.extend([15]*m.countPoints())\n",
    "\n",
    "    plt.plot(figsize=(20, 15))\n",
    "    plt.scatter(nx, ny,sizes,cols) \n",
    "    plt.show()\n",
    "\n",
    "for i in range(100):\n",
    "    trythings()"
   ]
  },
  {
   "cell_type": "code",
   "execution_count": 131,
   "metadata": {
    "collapsed": true
   },
   "outputs": [],
   "source": [
    "# Code from H440 by John Iacono\n",
    "    \n",
    "def plotruntimes(functions,labels,r,data,trials=1,figsize=[3,3]):\n",
    "# Function which will plot runtimes of a set of functions\n",
    "# Takes:\n",
    "    # A list of functions\n",
    "    # Their labels(names), \n",
    "    # The defining parameter (in this case the number of clusters)\n",
    "    # The data\n",
    "    # The number of trials\n",
    "# Returns: nothing, but plots the runtimes on a common graph\n",
    "    \n",
    "    fig, ax = plt.subplots(figsize=figsize)\n",
    "    \n",
    "    for f,l in zip(functions,labels):\n",
    "        Times=[timeit.timeit(lambda:f(n,data),number=trials)/trials for n in r]\n",
    "        ax.plot(r,Times,label=l)\n",
    "    \n",
    "    ax.set_xlabel(\"Value of n\")\n",
    "    ax.set_ylabel(\"Runtime\")\n",
    "    ax.set_title(\"Runtime plot: \"+str(trials)+\" trial\"+(\"s\" if trials>1 else \"\"))\n",
    "    ax.legend()"
   ]
  },
  {
   "cell_type": "markdown",
   "metadata": {},
   "source": [
    "### Performance testing on generated data"
   ]
  },
  {
   "cell_type": "markdown",
   "metadata": {},
   "source": [
    "### Performance testing on real-world data"
   ]
  }
 ],
 "metadata": {
  "kernelspec": {
   "display_name": "Python 3",
   "language": "python",
   "name": "python3"
  },
  "language_info": {
   "codemirror_mode": {
    "name": "ipython",
    "version": 3
   },
   "file_extension": ".py",
   "mimetype": "text/x-python",
   "name": "python",
   "nbconvert_exporter": "python",
   "pygments_lexer": "ipython3",
   "version": "3.6.1"
  }
 },
 "nbformat": 4,
 "nbformat_minor": 2
}
