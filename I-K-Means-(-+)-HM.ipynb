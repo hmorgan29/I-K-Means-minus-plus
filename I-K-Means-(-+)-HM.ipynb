{
 "cells": [
  {
   "cell_type": "markdown",
   "metadata": {},
   "source": [
    "# The Iterative K-means -/+ algorithm  \n",
    "As seen in Ismkahn (2018)  \n",
    "Coded by Henry Morgan, ULB Data Science\n",
    "\n",
    "Note: Ismkahn's original C++ code is available on his researchgate profile, but this code is independently generated and may differ in implementation strategies"
   ]
  },
  {
   "cell_type": "code",
   "execution_count": null,
   "metadata": {
    "collapsed": true
   },
   "outputs": [],
   "source": [
    "import numpy as np"
   ]
  },
  {
   "cell_type": "markdown",
   "metadata": {},
   "source": [
    "## Center and Point classes"
   ]
  },
  {
   "cell_type": "markdown",
   "metadata": {},
   "source": [
    "### Center"
   ]
  },
  {
   "cell_type": "code",
   "execution_count": null,
   "metadata": {
    "collapsed": true
   },
   "outputs": [],
   "source": [
    "class center:\n",
    "# a class to capture the required attributes of a cluster for the algorithms\n",
    "\n",
    "    __slots__ = 'xyz', 'abc'\n",
    "\n",
    "# Need: uniqueID\n",
    "# Need: list of associated points\n",
    "# Need: Center coordinates\n",
    "# Need: Gain/Loss\n",
    "# Need: SSEDM of cluster\n",
    "# Need: adjacent clusters\n",
    "# Need: indivisible marker\n",
    "# Need: irremovable marker\n",
    "    \n",
    "    def __init__(self, coordinates,index):\n",
    "    # initialisation requires an NP array holding the center's starting coordinates and the initialisation index of the center\n",
    "        self.loc = coordinates\n",
    "        self.id = index\n",
    "    \n",
    "    def getID()\n",
    "    \n",
    "    def getLoc()\n",
    "    \n",
    "    def getPoints()\n",
    "    \n"
   ]
  },
  {
   "cell_type": "markdown",
   "metadata": {},
   "source": [
    "### Point"
   ]
  },
  {
   "cell_type": "code",
   "execution_count": null,
   "metadata": {
    "collapsed": true
   },
   "outputs": [],
   "source": [
    "__slots__\n",
    "\n",
    "# Need: uniqueID \n",
    "# Need: coordinates\n",
    "# Need: First and Second closest centers\n",
    "# Need: Distance to first and second closest centers\n",
    "# Need: Useful Nearest Centers\n",
    "    def getLoc()\n",
    "    \n",
    "    def getCenter()\n",
    "    \n",
    "    def disToFirst()\n",
    "    \n",
    "    def disToSecond()\n",
    "    #distance to second nearest center\n",
    "    \n",
    "    def getSecondCenter()"
   ]
  },
  {
   "cell_type": "markdown",
   "metadata": {},
   "source": [
    "## Useful Nearest Center initialisation algorithm"
   ]
  },
  {
   "cell_type": "code",
   "execution_count": 5,
   "metadata": {},
   "outputs": [],
   "source": [
    "def distance(X1, X2):\n",
    "# Function to calculate euclidean distance between two points or two centers\n",
    "# Accepts two point or center class variables\n",
    "# Returns the euclidean distance calculated as the norm of the difference of their coordinates\n",
    "\n",
    "    return np.linalg.norm(X1.getLoc()-X2.getLoc())"
   ]
  },
  {
   "cell_type": "code",
   "execution_count": 7,
   "metadata": {},
   "outputs": [],
   "source": [
    "def usefulCenters(point, centers):\n",
    "# Calculates the useful nearest centers of a given point\n",
    "# Receives a point class variable and a list of center class variables\n",
    "# Returns a list of center class variables representing the useful nearest centers\n",
    "# NOTE: INEFFICIENT CODE --> REVISIT\n",
    "\n",
    "    UNClist = []\n",
    "    \n",
    "    # Loop through centers and identify useful centers for given point\n",
    "    for i in range(len(centers)):\n",
    "        disPC = distance(point, centers[i])\n",
    "        useless = False\n",
    "        \n",
    "        # Loop through other centers to determine if center i is useless\n",
    "        # NOTE: INEFFICIENT CODE\n",
    "        for j in range(len(centers)):\n",
    "            if i != j:\n",
    "                disPCx = distance(point, centers[j])\n",
    "                disCCx = distance(centers[i], centers[j])\n",
    "                if disPCx < disPC and disCCx < disPC:\n",
    "                    useless = True\n",
    "                    \n",
    "        if useless == False:\n",
    "            UNClist.append(centers[i])\n",
    "    \n",
    "    return UNClist"
   ]
  },
  {
   "cell_type": "code",
   "execution_count": 8,
   "metadata": {
    "collapsed": true
   },
   "outputs": [],
   "source": [
    "def UNCinit(points, maxCenters):\n",
    "# Initialises the K-Means center with the Useful Nearest Center algorithm\n",
    "# Receives a list of point class variables and a maxumum number of centers\n",
    "# Returns the list of initial center class variables\n",
    "\n",
    "    centerList = []\n",
    "\n",
    "    # Loop through points and identify point with lowest first dimension value to be the first center\n",
    "    minDimension = points[0].getLoc()[0]\n",
    "    startPoint = points[0]\n",
    "    startPointIndex = 0\n",
    "    for i in range(points):\n",
    "        firstDimension = points[i].getLoc()[0]\n",
    "        if firstDimension < minDimension:\n",
    "            minDimension = firstDimension\n",
    "            startPoint = points[i]\n",
    "            startPointIndex = i\n",
    "            \n",
    "    # Instantiate a center at the given location, and remove the point from the list\n",
    "    centerCount = 1\n",
    "    centerList.append(center(startPoint.getLoc(),centerCount))\n",
    "    del points[startPointIndex]\n",
    "    \n",
    "    # Now need to loop until maximum number of centers is achieved\n",
    "    while len(centerList) < maxCenters:\n",
    "        \n",
    "        # Calculate next optimal center\n",
    "        maxFormula = 0\n",
    "        maxPoint = 0\n",
    "        maxPointIndex = 0\n",
    "        for i in range(points):\n",
    "            UNCi = usefulCenters(point[i], centerList)\n",
    "            \n",
    "            # Need to loop through useful nearest centers and calculate required distances to i\n",
    "            maxDist = 0\n",
    "            sumDist = 0\n",
    "            sumLnDist = 0\n",
    "            for j in UNCi:\n",
    "                dist = distance(points[i],j)\n",
    "                if dist > maxDist:\n",
    "                    maxDist = dist\n",
    "                sumDist += dist\n",
    "                sumLnDist += np.log(dist)\n",
    "            avgDist = sumDist/len(UNCi)\n",
    "            \n",
    "            # Calculate the formula of Ismkahn (2017) and compare to previous max\n",
    "            formula = (avgDist/maxDist)*sumLnDist\n",
    "            if formula > maxFormula:\n",
    "                maxFormula = formula\n",
    "                maxPoint = points[i]\n",
    "                maxPointIndex = i\n",
    "\n",
    "        # Instantiate a center at the given location, and remove the point from the list\n",
    "        centerCount += 1\n",
    "        centerList.append(center(maxPoint.getLoc(), centerCount))\n",
    "        del points[maxPointIndex]\n",
    "        \n",
    "    return centerList"
   ]
  },
  {
   "cell_type": "markdown",
   "metadata": {},
   "source": [
    "## SSEDM, Gain/Cost, & Adjacency functions"
   ]
  },
  {
   "cell_type": "markdown",
   "metadata": {},
   "source": [
    "### SSEDM"
   ]
  },
  {
   "cell_type": "code",
   "execution_count": 10,
   "metadata": {
    "collapsed": true
   },
   "outputs": [],
   "source": [
    "def SSEDMi(center):\n",
    "# Function to calculate the sum of squared euclidean distances from the mean (center) of the given cluster\n",
    "# Function receives a center class object\n",
    "# Function returns the calculated SSEDM for that center\n",
    "\n",
    "    points = center.getPoints()\n",
    "    SSEDMi = 0\n",
    "    \n",
    "    # Loop through the cluster's points to calculate their distances to the mean\n",
    "    for i in points:\n",
    "        SSEDMi += distance(point, center) ** 2\n",
    "    \n",
    "    return SSEDMi"
   ]
  },
  {
   "cell_type": "code",
   "execution_count": 11,
   "metadata": {
    "collapsed": true
   },
   "outputs": [],
   "source": [
    "def SSEDM(centerList):\n",
    "# Function to calculate the sum of squared euclidean distances from the mean (center) of all clusters\n",
    "# Function receives a list of center class objects\n",
    "# Function returns the sum of calculated SSEDM for every cluster\n",
    "\n",
    "    SSEDM = 0\n",
    "    \n",
    "    for i in centerList:\n",
    "        SSEDM += SSEDMi(i)\n",
    "    \n",
    "    return SSEDM"
   ]
  },
  {
   "attachments": {},
   "cell_type": "markdown",
   "metadata": {},
   "source": [
    "### Cost calculation\n",
    "the approximated cost of removing the cluster Sj is the increase in the total SSEDM over all clusters, SSEDM(S), after Sj is removed"
   ]
  },
  {
   "cell_type": "code",
   "execution_count": 13,
   "metadata": {
    "collapsed": true
   },
   "outputs": [],
   "source": [
    "def cost(removalCenter):\n",
    "# Function to approximate the cost of removing the center from the overall solution\n",
    "# Receives a center class object\n",
    "# Returns the approximated cost of the removal\n",
    "\n",
    "    sumSecondCenter = 0\n",
    "    for i in removalCenter.getPoints():\n",
    "        sumSecondCenter += i.disToSecond()**2\n",
    "    \n",
    "    return SSEDMi(removalCenter) - sumSecondCenter"
   ]
  },
  {
   "cell_type": "markdown",
   "metadata": {},
   "source": [
    "### Gain calculation"
   ]
  },
  {
   "cell_type": "code",
   "execution_count": 14,
   "metadata": {
    "collapsed": true
   },
   "outputs": [],
   "source": [
    "def gain(splitCenter, alpha = 3/4):\n",
    "# Function to approximate the gain of splitting one cluster into two clusters\n",
    "# Receives a center class object, an alpha value which defaults to 3/4\n",
    "# Returns the approximated gain for the split\n",
    "\n",
    "    return alpha * SSEDMi(splitCenter)"
   ]
  },
  {
   "cell_type": "markdown",
   "metadata": {},
   "source": [
    "### Adjacency"
   ]
  },
  {
   "cell_type": "code",
   "execution_count": 15,
   "metadata": {
    "collapsed": true
   },
   "outputs": [],
   "source": [
    "def adjacent(centerI, centerJ):\n",
    "# Function to determine if two centers are adjacent according to Ismkahn's definition\n",
    "# Receives two center class objects\n",
    "# Returns True if centerJ is adjacent to centerI\n",
    "# Returns False otherwise\n",
    "\n",
    "    for i in centerI.getPoints():\n",
    "        if i.getSecondCenter() == centerJ:\n",
    "            return True\n",
    "    \n",
    "    return False"
   ]
  },
  {
   "cell_type": "code",
   "execution_count": 16,
   "metadata": {
    "collapsed": true
   },
   "outputs": [],
   "source": [
    "def strongAdjacent(centerI, centerJ):\n",
    "# Function to determine if two centers are strongly adjacent according to Ismkahn's definition\n",
    "# Receives two center class objects\n",
    "# Returns True if centerJ is strongly adjacent to centerI\n",
    "# Returns False otherwise\n",
    "\n",
    "    if adjacent(centerI, centerJ) == True and adjacent(centerJ, centerI) == True:\n",
    "        return True\n",
    "    \n",
    "    return False"
   ]
  },
  {
   "cell_type": "code",
   "execution_count": 17,
   "metadata": {
    "collapsed": true
   },
   "outputs": [],
   "source": [
    "def getAdjacentCenters(centerList, center):\n",
    "# Generates a list of all centers in centerList which are adjacent to center\n",
    "# Receives a list of center class objects and one center class object index to be checked\n",
    "# Returns a list of centers adjacent to the center at centerIndex\n",
    "    \n",
    "    adj = []\n",
    "    for i in range(len(centerList)):\n",
    "        if centerList[i].getID() != center.getID():\n",
    "            if adjacent(center, centerList[i]) == True:\n",
    "                adj.append(centerList[i])\n",
    "    \n",
    "    return adj"
   ]
  },
  {
   "attachments": {},
   "cell_type": "markdown",
   "metadata": {},
   "source": [
    "### Affected points  \n",
    "Definition: in solution S, point P is an affected point of center Ci iff the first or second nearest center of P is Ci"
   ]
  },
  {
   "cell_type": "code",
   "execution_count": 18,
   "metadata": {
    "collapsed": true
   },
   "outputs": [],
   "source": [
    "def affectedPointsInit(point, center):\n",
    "# Determines if point is an affected point of center\n",
    "# For the special T-K-means iteration 1 case, where we have not yet updated global point attributes but where we have moved the center\n",
    "# Receives point and center class objects and a list of all centers\n",
    "# Returns True if the point is affected\n",
    "# Returns False otherwise\n",
    "    \n",
    "    second = point.disToSecond()\n",
    "    new = distance(point, center)\n",
    "    if new < second:\n",
    "        return True\n",
    "    \n",
    "def affectedPoints(point, center):\n",
    "# Determines if point is an affected point of center\n",
    "# Receives point and center class objects and a list of all centers\n",
    "# Returns True if the point is affected\n",
    "# Returns False otherwise\n",
    "    \n",
    "    if point.getCenter() == center or point.getSecondCenter() == center:\n",
    "        return True\n",
    "    \n",
    "    return False"
   ]
  },
  {
   "attachments": {},
   "cell_type": "markdown",
   "metadata": {},
   "source": [
    "## Topical K-means algorithm  \n",
    "As applied to a set where the center Cj of cluster Sj is changed to be a random point in Si which has center Ci (i.e. Sj has been deleted and Si has been split)"
   ]
  },
  {
   "cell_type": "code",
   "execution_count": null,
   "metadata": {
    "collapsed": true
   },
   "outputs": [],
   "source": [
    "def TKmeans(centerList, deletedIndex, splitIndex):\n",
    "    deletedCenter = centerList[deletedIndex]\n",
    "    splitCenter = centerList[splitIndex]\n",
    "    \n",
    "# Phase 0: move the center\n",
    "    # Define AC-Adjacent as the adjacent centers of Cj before removal\n",
    "    ## QUESTION --> CAN Cj AND Ci BE ADJACENT???\n",
    "    ACAdj = getAdjacentCenters(centerList, deletedCenter)\n",
    "    \n",
    "    # Define AP (affected points) as the affected points of Cj before removal\n",
    "    AP = deletedCenter.getPoints()\n",
    "    \n",
    "    # Step 2, part 2 adds adjacent centers of the new Si and Sj in the first loop\n",
    "    # This is equivalent to adding here adjacent centers of the old Si before splitting\n",
    "    ACAdj.append(getAdjacentCenters(centerList, splitCenter))\n",
    "\n",
    "    #### add center movement\n",
    "    \n",
    "    \n",
    "# Phase 1: initialization  \n",
    "    # Define AC (active centers) as a list of centers, holding only the new Ci and Cj\n",
    "    AC = [deletedCenter, splitCenter]\n",
    "    \n",
    "    loop = 1\n",
    "    \n",
    "# Phase 2: identification\n",
    "    # If AC is empty, go to end\n",
    "    if len(AC) == 0:\n",
    "        break\n",
    "        \n",
    "    # Add all adjacent centers of centers held in AC to AC-Adjacent\n",
    "    if loop != 1:\n",
    "        for i in AC:\n",
    "            ACAdj.append(getAdjacentCenters(centerList, i))\n",
    "    \n",
    "    # Define Potential-AC as an empty list\n",
    "    PAC = []\n",
    "    \n",
    "    # Add all affected points of centers in AC to AP\n",
    "    if loop == 1:\n",
    "        AP.append(affectedPointsInit())\n",
    "    else:\n",
    "        AP.append(affectedPoints())\n",
    "        \n",
    "\n",
    "# Phase 3: updating\n",
    "    # For each point P in AP:\n",
    "        # Update the first and second closest centers of P, considering as candidates centers held in AC and AC-Adjacent\n",
    "        # If P’s closest center changes from Cx to Cy, add Cx and Cy to Potential-AC\n",
    "    # Update all centers (re-calculate centroid of clusters)\n",
    "    # Define AC as Potential-AC\n",
    "    # If AC is not empty, return to Phase 2, else end\n",
    "    loop += 1\n",
    "\n"
   ]
  },
  {
   "cell_type": "markdown",
   "metadata": {},
   "source": [
    "## Iterative K-means -/+ algorithm"
   ]
  },
  {
   "cell_type": "markdown",
   "metadata": {},
   "source": [
    "## Trials"
   ]
  },
  {
   "cell_type": "code",
   "execution_count": null,
   "metadata": {
    "collapsed": true
   },
   "outputs": [],
   "source": [
    "def plotkmeans(data,k,trials,iterations):\n",
    "# Code from H440 by John Iacono\n",
    "    \n",
    "    km,pwkm=repeatkmeans(data,k,trials,iterations)\n",
    "    nx=[]\n",
    "    ny=[]\n",
    "    sizes=[]\n",
    "    cols=[]\n",
    "    cm=matplotlib.cm.get_cmap('turbo')\n",
    "    for m,P,c in zip(km,pwkm,[cm(i/len(km)) for i in range(len(km))]):\n",
    "        nx.append(m[0])\n",
    "        ny.append(m[1])\n",
    "        cols.append(c)\n",
    "        sizes.append(200)\n",
    "        nx.extend(data[p][0] for p in P)\n",
    "        ny.extend(data[p][1] for p in P)\n",
    "        cols.extend([c]*len(P))\n",
    "        sizes.extend([15]*len(P))\n",
    "\n",
    "    fig, ax = plt.subplots(figsize=(20, 15))\n",
    "    ax.scatter(nx, ny,sizes,cols) \n",
    "\n",
    "data=twodnormal( (8,4) ,1,20)+twodnormal( (1,1) ,2,60)+twodnormal( (3,10) ,1,30)+twodnormal( (9,0) ,0.2,20)\n",
    "plotkmeans(data,4,100,20)"
   ]
  },
  {
   "cell_type": "markdown",
   "metadata": {},
   "source": [
    "### Performance testing on generated data"
   ]
  },
  {
   "cell_type": "markdown",
   "metadata": {},
   "source": [
    "### Performance testing on real-world data"
   ]
  }
 ],
 "metadata": {
  "kernelspec": {
   "display_name": "Python 3",
   "language": "python",
   "name": "python3"
  },
  "language_info": {
   "codemirror_mode": {
    "name": "ipython",
    "version": 3
   },
   "file_extension": ".py",
   "mimetype": "text/x-python",
   "name": "python",
   "nbconvert_exporter": "python",
   "pygments_lexer": "ipython3",
   "version": "3.6.1"
  }
 },
 "nbformat": 4,
 "nbformat_minor": 2
}
